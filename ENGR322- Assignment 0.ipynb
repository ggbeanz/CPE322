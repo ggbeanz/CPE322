#user inputs a number
num1= float(input ("Enter 1st number: "))
num2= float(input ("Enter 2nd number: "))

#operations
print("Addition:", num1 + num2)
print("Subtraction", num1 - num2)
print("Multiplication", num1 * num2)
print("Division", num1 / num2)
